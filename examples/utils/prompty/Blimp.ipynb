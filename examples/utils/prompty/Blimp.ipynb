{
 "cells": [
  {
   "cell_type": "code",
   "execution_count": 1,
   "metadata": {},
   "outputs": [],
   "source": [
    "import openai\n",
    "\n",
    "import os \n",
    "import pandas as pd"
   ]
  },
  {
   "cell_type": "code",
   "execution_count": 2,
   "metadata": {},
   "outputs": [],
   "source": [
    "os.environ['OPENAI_API_KEY']="
   ]
  },
  {
   "cell_type": "code",
   "execution_count": 8,
   "metadata": {},
   "outputs": [],
   "source": [
    "import openai\n",
    "import os\n",
    "\n",
    "def read_file(file_path):\n",
    "    with open(file_path, 'r', encoding='utf-8') as file:\n",
    "        return file.read()\n",
    "\n",
    "def write_file(file_path, content):\n",
    "    with open(file_path, 'w', encoding='utf-8') as file:\n",
    "        file.write(content)\n",
    "\n",
    "def process_text(input_file, output_file):\n",
    "    # Read the input file\n",
    "    input_text = read_file(input_file)\n",
    "    \n",
    "    # Call OpenAI API\n",
    "    response= openai.chat.completions.create(\n",
    "      model=\"gpt-4o-mini\",\n",
    "      messages=[\n",
    "        {\"role\": \"system\", \"content\": \"Si učiteľ slovenského jazyka\"},\n",
    "        {\"role\": \"user\", \"content\": f\"Doplň text{input_text}.Vráť mi len vytvorený text v rovnakom tvare ako bol poslaný\"}])\n",
    "    \n",
    "    # Get the generated text\n",
    "    output_text =  response.choices[0].message.content\n",
    "    \n",
    "    # Write the output to a file\n",
    "    write_file(output_file, output_text)\n",
    "\n",
    "input_file = './utils/prompty/sloveso.txt'\n",
    "output_file = \"./utils/prompty/output.txt\"\n",
    "process_text(input_file, output_file)\n"
   ]
  },
  {
   "cell_type": "code",
   "execution_count": 2,
   "metadata": {},
   "outputs": [],
   "source": []
  },
  {
   "cell_type": "code",
   "execution_count": 4,
   "metadata": {},
   "outputs": [],
   "source": []
  }
 ],
 "metadata": {
  "kernelspec": {
   "display_name": "Python 3",
   "language": "python",
   "name": "python3"
  },
  "language_info": {
   "codemirror_mode": {
    "name": "ipython",
    "version": 3
   },
   "file_extension": ".py",
   "mimetype": "text/x-python",
   "name": "python",
   "nbconvert_exporter": "python",
   "pygments_lexer": "ipython3",
   "version": "3.9.19"
  }
 },
 "nbformat": 4,
 "nbformat_minor": 2
}
